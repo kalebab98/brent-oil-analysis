{
 "cells": [
  {
   "cell_type": "markdown",
   "id": "d1d5baf9",
   "metadata": {},
   "source": [
    "# 🛠️ Fix Jupyter Notebook 'metadata.widgets' Error\n",
    "This notebook allows you to fix the error:\n",
    "```\n",
    "Invalid Notebook: the 'state' key is missing from 'metadata.widgets'\n",
    "```\n",
    "\n",
    "Useful when loading notebooks from Git or external sources."
   ]
  },
  {
   "cell_type": "code",
   "execution_count": null,
   "id": "b779fecd",
   "metadata": {},
   "outputs": [
    {
     "name": "stdout",
     "output_type": "stream",
     "text": [
      "✅ Notebook loaded.\n"
     ]
    }
   ],
   "source": [
    "import json\n",
    "\n",
    "# 📂 Ask for the notebook path (e.g., from a Git repo)\n",
    "ruta = input(\"2a_bayesian_changepoint_model.ipynb\")\n",
    "\n",
    "try:\n",
    "    # 📥 Load notebook as raw JSON\n",
    "    with open(ruta, \"r\", encoding=\"utf-8\") as f:\n",
    "        data = json.load(f)\n",
    "\n",
    "    # 🧹 Remove broken widget metadata\n",
    "    if \"widgets\" in data.get(\"metadata\", {}):\n",
    "        print(\"⚠️ Found 'metadata.widgets' — removing it...\")\n",
    "        del data[\"metadata\"][\"widgets\"]\n",
    "    else:\n",
    "        print(\"✅ No 'metadata.widgets' found — nothing to clean.\")\n",
    "\n",
    "    # 💾 Save the cleaned notebook\n",
    "    with open(ruta, \"w\", encoding=\"utf-8\") as f:\n",
    "        json.dump(data, f, indent=1, ensure_ascii=False)\n",
    "    \n",
    "    print(\"✅ Notebook cleaned and saved successfully.\")\n",
    "\n",
    "except Exception as e:\n",
    "    print(f\"❌ Error: {e}\")\n"
   ]
  },
  {
   "cell_type": "code",
   "execution_count": null,
   "id": "303d2418",
   "metadata": {},
   "outputs": [],
   "source": [
    "# 🚫 Optional: Remove widget metadata entirely (last resort)\n",
    "# Uncomment to enable this fix\n",
    "\n",
    "# if nb is not None and \"widgets\" in nb.metadata:\n",
    "#     del nb.metadata[\"widgets\"]\n",
    "#     nbformat.write(nb, nb_file)\n",
    "#     print(\"🧹 Removed metadata.widgets from notebook.\")"
   ]
  }
 ],
 "metadata": {
  "kernelspec": {
   "display_name": "Python 3",
   "language": "python",
   "name": "python3"
  },
  "language_info": {
   "codemirror_mode": {
    "name": "ipython",
    "version": 3
   },
   "file_extension": ".py",
   "mimetype": "text/x-python",
   "name": "python",
   "nbconvert_exporter": "python",
   "pygments_lexer": "ipython3",
   "version": "3.12.4"
  }
 },
 "nbformat": 4,
 "nbformat_minor": 5
}
